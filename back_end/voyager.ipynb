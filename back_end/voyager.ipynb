{
 "cells": [
  {
   "cell_type": "code",
   "execution_count": 1,
   "metadata": {},
   "outputs": [
    {
     "name": "stdout",
     "output_type": "stream",
     "text": [
      "Requirement already satisfied: voyageai in e:\\rag_app\\env\\lib\\site-packages (0.2.3)\n",
      "Requirement already satisfied: aiohttp<4.0,>=3.5 in e:\\rag_app\\env\\lib\\site-packages (from voyageai) (3.9.5)\n",
      "Requirement already satisfied: aiolimiter<2.0.0,>=1.1.0 in e:\\rag_app\\env\\lib\\site-packages (from voyageai) (1.1.0)\n",
      "Requirement already satisfied: numpy>=1.11 in e:\\rag_app\\env\\lib\\site-packages (from voyageai) (1.26.4)\n",
      "Requirement already satisfied: requests<3.0,>=2.20 in e:\\rag_app\\env\\lib\\site-packages (from voyageai) (2.32.3)\n",
      "Requirement already satisfied: tenacity>=8.0.1 in e:\\rag_app\\env\\lib\\site-packages (from voyageai) (8.3.0)\n",
      "Requirement already satisfied: aiosignal>=1.1.2 in e:\\rag_app\\env\\lib\\site-packages (from aiohttp<4.0,>=3.5->voyageai) (1.3.1)\n",
      "Requirement already satisfied: attrs>=17.3.0 in e:\\rag_app\\env\\lib\\site-packages (from aiohttp<4.0,>=3.5->voyageai) (23.2.0)\n",
      "Requirement already satisfied: frozenlist>=1.1.1 in e:\\rag_app\\env\\lib\\site-packages (from aiohttp<4.0,>=3.5->voyageai) (1.4.1)\n",
      "Requirement already satisfied: multidict<7.0,>=4.5 in e:\\rag_app\\env\\lib\\site-packages (from aiohttp<4.0,>=3.5->voyageai) (6.0.5)\n",
      "Requirement already satisfied: yarl<2.0,>=1.0 in e:\\rag_app\\env\\lib\\site-packages (from aiohttp<4.0,>=3.5->voyageai) (1.9.4)\n",
      "Requirement already satisfied: async-timeout<5.0,>=4.0 in e:\\rag_app\\env\\lib\\site-packages (from aiohttp<4.0,>=3.5->voyageai) (4.0.3)\n",
      "Requirement already satisfied: charset-normalizer<4,>=2 in e:\\rag_app\\env\\lib\\site-packages (from requests<3.0,>=2.20->voyageai) (3.3.2)\n",
      "Requirement already satisfied: idna<4,>=2.5 in e:\\rag_app\\env\\lib\\site-packages (from requests<3.0,>=2.20->voyageai) (3.7)\n",
      "Requirement already satisfied: urllib3<3,>=1.21.1 in e:\\rag_app\\env\\lib\\site-packages (from requests<3.0,>=2.20->voyageai) (2.2.1)\n",
      "Requirement already satisfied: certifi>=2017.4.17 in e:\\rag_app\\env\\lib\\site-packages (from requests<3.0,>=2.20->voyageai) (2024.6.2)\n",
      "Note: you may need to restart the kernel to use updated packages.\n"
     ]
    },
    {
     "name": "stderr",
     "output_type": "stream",
     "text": [
      "\n",
      "[notice] A new release of pip is available: 24.0 -> 24.1.2\n",
      "[notice] To update, run: python.exe -m pip install --upgrade pip\n"
     ]
    }
   ],
   "source": [
    "%pip install -U voyageai\n"
   ]
  },
  {
   "cell_type": "code",
   "execution_count": 16,
   "metadata": {},
   "outputs": [],
   "source": [
    "import os\n",
    "import voyageai\n",
    "from qdrant_client import QdrantClient\n",
    "from qdrant_client.models import Distance, PointStruct, VectorParams\n",
    "from dotenv import load_dotenv\n",
    "from langchain.text_splitter import RecursiveCharacterTextSplitter\n",
    "import time\n",
    "from requests.exceptions import HTTPError\n",
    "import numpy as np\n",
    "\n",
    "def vectorise(collection_name: str):\n",
    "    # Load environment variables from .env file\n",
    "    load_dotenv()\n",
    "\n",
    "    path = \"data/website_data.txt\"\n",
    "\n",
    "    VOYAGE_API_KEY = os.getenv(\"VOYAGE_API_KEY\")\n",
    "    QDRANT_API_KEY = os.getenv(\"QDRANT_API_KEY\")\n",
    "    QDRANT_URL = os.getenv(\"QDRANT_URL\")\n",
    "\n",
    "    # Configure Voyage client\n",
    "    vo = voyageai.Client(api_key=VOYAGE_API_KEY)\n",
    "\n",
    "    # Initialize Qdrant client\n",
    "    client = QdrantClient(url=QDRANT_URL, api_key=QDRANT_API_KEY)\n",
    "\n",
    "    # Function to split text into chunks\n",
    "    def make_chunks(inptext: str):\n",
    "        text_splitter = RecursiveCharacterTextSplitter(\n",
    "            separators=[\"\\n\"],\n",
    "            chunk_size=1000,\n",
    "            chunk_overlap=20,\n",
    "            length_function=len,\n",
    "        )\n",
    "        chunks = text_splitter.create_documents([inptext])\n",
    "        return chunks\n",
    "\n",
    "    # Load texts from the provided file\n",
    "    file_path = path\n",
    "    with open(file_path, 'r', encoding='utf-8') as file:\n",
    "        full_text = file.read()\n",
    "\n",
    "    texts = make_chunks(full_text)\n",
    "\n",
    "    # Retry mechanism for handling rate limits\n",
    "    max_retries = 5\n",
    "    retry_delay = 10  # seconds\n",
    "    batch_size = 10  # Number of chunks per batch\n",
    "\n",
    "    all_embeddings = []\n",
    "    for attempt in range(max_retries):\n",
    "        try:\n",
    "            # Process text in batches\n",
    "            for i in range(0, len(texts), batch_size):\n",
    "                batch_texts = [chunk.page_content for chunk in texts[i:i+batch_size]]\n",
    "                results = vo.embed(\n",
    "                    batch_texts,\n",
    "                    model=\"voyage-2\",\n",
    "                    input_type=\"document\"\n",
    "                ).embeddings\n",
    "                \n",
    "                all_embeddings.extend(results)  # Collect all embeddings\n",
    "\n",
    "            break  # Exit loop if successful\n",
    "        except HTTPError as e:\n",
    "            if e.response.status_code == 429:  # Rate limit error\n",
    "                print(f\"Rate limit exceeded. Retrying in {retry_delay} seconds...\")\n",
    "                time.sleep(retry_delay)\n",
    "                retry_delay *= 2  # Exponential backoff\n",
    "            else:\n",
    "                raise  # Re-raise exception if not a rate limit error\n",
    "        except Exception as e:\n",
    "            print(f\"An error occurred: {e}\")\n",
    "            raise  # Re-raise exception if it's not a rate limit error\n",
    "\n",
    "    # Check if the collection already exists\n",
    "    try:\n",
    "        client.get_collection(collection_name=str(collection_name))\n",
    "        print(\"Collection already exists.\")\n",
    "    except Exception as e:\n",
    "        print(\"Creating collection...\")\n",
    "        client.create_collection(\n",
    "            collection_name=str(collection_name),\n",
    "            vectors_config=VectorParams(size=1024, distance=Distance.COSINE)  # Changed to match voyage-2 model\n",
    "        )\n",
    "\n",
    "    # Prepare points to be inserted into Qdrant\n",
    "    points = [\n",
    "        PointStruct(\n",
    "            id=idx,\n",
    "            vector=embedding,\n",
    "            payload={\"text\": chunk.page_content},\n",
    "        )\n",
    "        for idx, (embedding, chunk) in enumerate(zip(all_embeddings, texts))\n",
    "    ]\n",
    "\n",
    "    # Insert the points into the Qdrant collection\n",
    "    client.upsert(\n",
    "        collection_name=str(collection_name),\n",
    "        points=points\n",
    "    )\n",
    "\n",
    "    print(\"Collection created and points upserted.\")\n",
    "\n",
    "    return collection_name\n"
   ]
  },
  {
   "cell_type": "code",
   "execution_count": 17,
   "metadata": {},
   "outputs": [
    {
     "name": "stdout",
     "output_type": "stream",
     "text": [
      "An error occurred: You have not yet added your payment method in the billing page and will have reduced rate limits of 3 RPM and 10K TPM.  Please add your payment method in the billing page (https://dash.voyageai.com/billing/payment-methods) to unlock our standard rate limits (https://docs.voyageai.com/docs/rate-limits).  Even with payment methods entered, the free tokens (50M tokens per model) will still apply.\n"
     ]
    },
    {
     "ename": "RateLimitError",
     "evalue": "You have not yet added your payment method in the billing page and will have reduced rate limits of 3 RPM and 10K TPM.  Please add your payment method in the billing page (https://dash.voyageai.com/billing/payment-methods) to unlock our standard rate limits (https://docs.voyageai.com/docs/rate-limits).  Even with payment methods entered, the free tokens (50M tokens per model) will still apply.",
     "output_type": "error",
     "traceback": [
      "\u001b[1;31m---------------------------------------------------------------------------\u001b[0m",
      "\u001b[1;31mRateLimitError\u001b[0m                            Traceback (most recent call last)",
      "Cell \u001b[1;32mIn[17], line 1\u001b[0m\n\u001b[1;32m----> 1\u001b[0m collection_name \u001b[38;5;241m=\u001b[39m \u001b[43mvectorise\u001b[49m\u001b[43m(\u001b[49m\u001b[38;5;124;43m'\u001b[39;49m\u001b[38;5;124;43mvoyager_rag\u001b[39;49m\u001b[38;5;124;43m'\u001b[39;49m\u001b[43m)\u001b[49m\n",
      "Cell \u001b[1;32mIn[16], line 56\u001b[0m, in \u001b[0;36mvectorise\u001b[1;34m(collection_name)\u001b[0m\n\u001b[0;32m     54\u001b[0m \u001b[38;5;28;01mfor\u001b[39;00m i \u001b[38;5;129;01min\u001b[39;00m \u001b[38;5;28mrange\u001b[39m(\u001b[38;5;241m0\u001b[39m, \u001b[38;5;28mlen\u001b[39m(texts), batch_size):\n\u001b[0;32m     55\u001b[0m     batch_texts \u001b[38;5;241m=\u001b[39m [chunk\u001b[38;5;241m.\u001b[39mpage_content \u001b[38;5;28;01mfor\u001b[39;00m chunk \u001b[38;5;129;01min\u001b[39;00m texts[i:i\u001b[38;5;241m+\u001b[39mbatch_size]]\n\u001b[1;32m---> 56\u001b[0m     results \u001b[38;5;241m=\u001b[39m \u001b[43mvo\u001b[49m\u001b[38;5;241;43m.\u001b[39;49m\u001b[43membed\u001b[49m\u001b[43m(\u001b[49m\n\u001b[0;32m     57\u001b[0m \u001b[43m        \u001b[49m\u001b[43mbatch_texts\u001b[49m\u001b[43m,\u001b[49m\n\u001b[0;32m     58\u001b[0m \u001b[43m        \u001b[49m\u001b[43mmodel\u001b[49m\u001b[38;5;241;43m=\u001b[39;49m\u001b[38;5;124;43m\"\u001b[39;49m\u001b[38;5;124;43mvoyage-2\u001b[39;49m\u001b[38;5;124;43m\"\u001b[39;49m\u001b[43m,\u001b[49m\n\u001b[0;32m     59\u001b[0m \u001b[43m        \u001b[49m\u001b[43minput_type\u001b[49m\u001b[38;5;241;43m=\u001b[39;49m\u001b[38;5;124;43m\"\u001b[39;49m\u001b[38;5;124;43mdocument\u001b[39;49m\u001b[38;5;124;43m\"\u001b[39;49m\n\u001b[0;32m     60\u001b[0m \u001b[43m    \u001b[49m\u001b[43m)\u001b[49m\u001b[38;5;241m.\u001b[39membeddings\n\u001b[0;32m     62\u001b[0m     all_embeddings\u001b[38;5;241m.\u001b[39mextend(results)  \u001b[38;5;66;03m# Collect all embeddings\u001b[39;00m\n\u001b[0;32m     64\u001b[0m \u001b[38;5;28;01mbreak\u001b[39;00m  \u001b[38;5;66;03m# Exit loop if successful\u001b[39;00m\n",
      "File \u001b[1;32me:\\RAG_APP\\env\\lib\\site-packages\\voyageai\\client.py:68\u001b[0m, in \u001b[0;36mClient.embed\u001b[1;34m(self, texts, model, input_type, truncation)\u001b[0m\n\u001b[0;32m     60\u001b[0m     model \u001b[38;5;241m=\u001b[39m voyageai\u001b[38;5;241m.\u001b[39mVOYAGE_EMBED_DEFAULT_MODEL\n\u001b[0;32m     61\u001b[0m     warnings\u001b[38;5;241m.\u001b[39mwarn(\n\u001b[0;32m     62\u001b[0m         \u001b[38;5;124mf\u001b[39m\u001b[38;5;124m\"\u001b[39m\u001b[38;5;124mThe `model` argument is not specified and defaults to \u001b[39m\u001b[38;5;132;01m{\u001b[39;00mvoyageai\u001b[38;5;241m.\u001b[39mVOYAGE_EMBED_DEFAULT_MODEL\u001b[38;5;132;01m}\u001b[39;00m\u001b[38;5;124m. \u001b[39m\u001b[38;5;124m\"\u001b[39m\n\u001b[0;32m     63\u001b[0m         \u001b[38;5;124m\"\u001b[39m\u001b[38;5;124mIt will be a required argument in the future. We recommend to specify the model when using this \u001b[39m\u001b[38;5;124m\"\u001b[39m\n\u001b[0;32m     64\u001b[0m         \u001b[38;5;124m\"\u001b[39m\u001b[38;5;124mfunction. Please see https://docs.voyageai.com/docs/embeddings for the list of latest models \u001b[39m\u001b[38;5;124m\"\u001b[39m\n\u001b[0;32m     65\u001b[0m         \u001b[38;5;124m\"\u001b[39m\u001b[38;5;124mprovided by Voyage AI.\u001b[39m\u001b[38;5;124m\"\u001b[39m\n\u001b[0;32m     66\u001b[0m     )\n\u001b[1;32m---> 68\u001b[0m \u001b[38;5;28;01mfor\u001b[39;00m attempt \u001b[38;5;129;01min\u001b[39;00m \u001b[38;5;28mself\u001b[39m\u001b[38;5;241m.\u001b[39mretry_controller:\n\u001b[0;32m     69\u001b[0m     \u001b[38;5;28;01mwith\u001b[39;00m attempt:\n\u001b[0;32m     70\u001b[0m         response \u001b[38;5;241m=\u001b[39m voyageai\u001b[38;5;241m.\u001b[39mEmbedding\u001b[38;5;241m.\u001b[39mcreate(\n\u001b[0;32m     71\u001b[0m             \u001b[38;5;28minput\u001b[39m\u001b[38;5;241m=\u001b[39mtexts,\n\u001b[0;32m     72\u001b[0m             model\u001b[38;5;241m=\u001b[39mmodel,\n\u001b[1;32m   (...)\u001b[0m\n\u001b[0;32m     75\u001b[0m             \u001b[38;5;241m*\u001b[39m\u001b[38;5;241m*\u001b[39m\u001b[38;5;28mself\u001b[39m\u001b[38;5;241m.\u001b[39m_params,\n\u001b[0;32m     76\u001b[0m         )\n",
      "File \u001b[1;32me:\\RAG_APP\\env\\lib\\site-packages\\tenacity\\__init__.py:435\u001b[0m, in \u001b[0;36mBaseRetrying.__iter__\u001b[1;34m(self)\u001b[0m\n\u001b[0;32m    433\u001b[0m retry_state \u001b[38;5;241m=\u001b[39m RetryCallState(\u001b[38;5;28mself\u001b[39m, fn\u001b[38;5;241m=\u001b[39m\u001b[38;5;28;01mNone\u001b[39;00m, args\u001b[38;5;241m=\u001b[39m(), kwargs\u001b[38;5;241m=\u001b[39m{})\n\u001b[0;32m    434\u001b[0m \u001b[38;5;28;01mwhile\u001b[39;00m \u001b[38;5;28;01mTrue\u001b[39;00m:\n\u001b[1;32m--> 435\u001b[0m     do \u001b[38;5;241m=\u001b[39m \u001b[38;5;28;43mself\u001b[39;49m\u001b[38;5;241;43m.\u001b[39;49m\u001b[43miter\u001b[49m\u001b[43m(\u001b[49m\u001b[43mretry_state\u001b[49m\u001b[38;5;241;43m=\u001b[39;49m\u001b[43mretry_state\u001b[49m\u001b[43m)\u001b[49m\n\u001b[0;32m    436\u001b[0m     \u001b[38;5;28;01mif\u001b[39;00m \u001b[38;5;28misinstance\u001b[39m(do, DoAttempt):\n\u001b[0;32m    437\u001b[0m         \u001b[38;5;28;01myield\u001b[39;00m AttemptManager(retry_state\u001b[38;5;241m=\u001b[39mretry_state)\n",
      "File \u001b[1;32me:\\RAG_APP\\env\\lib\\site-packages\\tenacity\\__init__.py:368\u001b[0m, in \u001b[0;36mBaseRetrying.iter\u001b[1;34m(self, retry_state)\u001b[0m\n\u001b[0;32m    366\u001b[0m result \u001b[38;5;241m=\u001b[39m \u001b[38;5;28;01mNone\u001b[39;00m\n\u001b[0;32m    367\u001b[0m \u001b[38;5;28;01mfor\u001b[39;00m action \u001b[38;5;129;01min\u001b[39;00m \u001b[38;5;28mself\u001b[39m\u001b[38;5;241m.\u001b[39miter_state\u001b[38;5;241m.\u001b[39mactions:\n\u001b[1;32m--> 368\u001b[0m     result \u001b[38;5;241m=\u001b[39m \u001b[43maction\u001b[49m\u001b[43m(\u001b[49m\u001b[43mretry_state\u001b[49m\u001b[43m)\u001b[49m\n\u001b[0;32m    369\u001b[0m \u001b[38;5;28;01mreturn\u001b[39;00m result\n",
      "File \u001b[1;32me:\\RAG_APP\\env\\lib\\site-packages\\tenacity\\__init__.py:410\u001b[0m, in \u001b[0;36mBaseRetrying._post_stop_check_actions.<locals>.exc_check\u001b[1;34m(rs)\u001b[0m\n\u001b[0;32m    408\u001b[0m retry_exc \u001b[38;5;241m=\u001b[39m \u001b[38;5;28mself\u001b[39m\u001b[38;5;241m.\u001b[39mretry_error_cls(fut)\n\u001b[0;32m    409\u001b[0m \u001b[38;5;28;01mif\u001b[39;00m \u001b[38;5;28mself\u001b[39m\u001b[38;5;241m.\u001b[39mreraise:\n\u001b[1;32m--> 410\u001b[0m     \u001b[38;5;28;01mraise\u001b[39;00m \u001b[43mretry_exc\u001b[49m\u001b[38;5;241;43m.\u001b[39;49m\u001b[43mreraise\u001b[49m\u001b[43m(\u001b[49m\u001b[43m)\u001b[49m\n\u001b[0;32m    411\u001b[0m \u001b[38;5;28;01mraise\u001b[39;00m retry_exc \u001b[38;5;28;01mfrom\u001b[39;00m \u001b[38;5;21;01mfut\u001b[39;00m\u001b[38;5;21;01m.\u001b[39;00m\u001b[38;5;21;01mexception\u001b[39;00m()\n",
      "File \u001b[1;32me:\\RAG_APP\\env\\lib\\site-packages\\tenacity\\__init__.py:183\u001b[0m, in \u001b[0;36mRetryError.reraise\u001b[1;34m(self)\u001b[0m\n\u001b[0;32m    181\u001b[0m \u001b[38;5;28;01mdef\u001b[39;00m \u001b[38;5;21mreraise\u001b[39m(\u001b[38;5;28mself\u001b[39m) \u001b[38;5;241m-\u001b[39m\u001b[38;5;241m>\u001b[39m t\u001b[38;5;241m.\u001b[39mNoReturn:\n\u001b[0;32m    182\u001b[0m     \u001b[38;5;28;01mif\u001b[39;00m \u001b[38;5;28mself\u001b[39m\u001b[38;5;241m.\u001b[39mlast_attempt\u001b[38;5;241m.\u001b[39mfailed:\n\u001b[1;32m--> 183\u001b[0m         \u001b[38;5;28;01mraise\u001b[39;00m \u001b[38;5;28;43mself\u001b[39;49m\u001b[38;5;241;43m.\u001b[39;49m\u001b[43mlast_attempt\u001b[49m\u001b[38;5;241;43m.\u001b[39;49m\u001b[43mresult\u001b[49m\u001b[43m(\u001b[49m\u001b[43m)\u001b[49m\n\u001b[0;32m    184\u001b[0m     \u001b[38;5;28;01mraise\u001b[39;00m \u001b[38;5;28mself\u001b[39m\n",
      "File \u001b[1;32mC:\\Program Files\\Python310\\lib\\concurrent\\futures\\_base.py:451\u001b[0m, in \u001b[0;36mFuture.result\u001b[1;34m(self, timeout)\u001b[0m\n\u001b[0;32m    449\u001b[0m     \u001b[38;5;28;01mraise\u001b[39;00m CancelledError()\n\u001b[0;32m    450\u001b[0m \u001b[38;5;28;01melif\u001b[39;00m \u001b[38;5;28mself\u001b[39m\u001b[38;5;241m.\u001b[39m_state \u001b[38;5;241m==\u001b[39m FINISHED:\n\u001b[1;32m--> 451\u001b[0m     \u001b[38;5;28;01mreturn\u001b[39;00m \u001b[38;5;28;43mself\u001b[39;49m\u001b[38;5;241;43m.\u001b[39;49m\u001b[43m__get_result\u001b[49m\u001b[43m(\u001b[49m\u001b[43m)\u001b[49m\n\u001b[0;32m    453\u001b[0m \u001b[38;5;28mself\u001b[39m\u001b[38;5;241m.\u001b[39m_condition\u001b[38;5;241m.\u001b[39mwait(timeout)\n\u001b[0;32m    455\u001b[0m \u001b[38;5;28;01mif\u001b[39;00m \u001b[38;5;28mself\u001b[39m\u001b[38;5;241m.\u001b[39m_state \u001b[38;5;129;01min\u001b[39;00m [CANCELLED, CANCELLED_AND_NOTIFIED]:\n",
      "File \u001b[1;32mC:\\Program Files\\Python310\\lib\\concurrent\\futures\\_base.py:403\u001b[0m, in \u001b[0;36mFuture.__get_result\u001b[1;34m(self)\u001b[0m\n\u001b[0;32m    401\u001b[0m \u001b[38;5;28;01mif\u001b[39;00m \u001b[38;5;28mself\u001b[39m\u001b[38;5;241m.\u001b[39m_exception:\n\u001b[0;32m    402\u001b[0m     \u001b[38;5;28;01mtry\u001b[39;00m:\n\u001b[1;32m--> 403\u001b[0m         \u001b[38;5;28;01mraise\u001b[39;00m \u001b[38;5;28mself\u001b[39m\u001b[38;5;241m.\u001b[39m_exception\n\u001b[0;32m    404\u001b[0m     \u001b[38;5;28;01mfinally\u001b[39;00m:\n\u001b[0;32m    405\u001b[0m         \u001b[38;5;66;03m# Break a reference cycle with the exception in self._exception\u001b[39;00m\n\u001b[0;32m    406\u001b[0m         \u001b[38;5;28mself\u001b[39m \u001b[38;5;241m=\u001b[39m \u001b[38;5;28;01mNone\u001b[39;00m\n",
      "File \u001b[1;32me:\\RAG_APP\\env\\lib\\site-packages\\voyageai\\client.py:70\u001b[0m, in \u001b[0;36mClient.embed\u001b[1;34m(self, texts, model, input_type, truncation)\u001b[0m\n\u001b[0;32m     68\u001b[0m \u001b[38;5;28;01mfor\u001b[39;00m attempt \u001b[38;5;129;01min\u001b[39;00m \u001b[38;5;28mself\u001b[39m\u001b[38;5;241m.\u001b[39mretry_controller:\n\u001b[0;32m     69\u001b[0m     \u001b[38;5;28;01mwith\u001b[39;00m attempt:\n\u001b[1;32m---> 70\u001b[0m         response \u001b[38;5;241m=\u001b[39m voyageai\u001b[38;5;241m.\u001b[39mEmbedding\u001b[38;5;241m.\u001b[39mcreate(\n\u001b[0;32m     71\u001b[0m             \u001b[38;5;28minput\u001b[39m\u001b[38;5;241m=\u001b[39mtexts,\n\u001b[0;32m     72\u001b[0m             model\u001b[38;5;241m=\u001b[39mmodel,\n\u001b[0;32m     73\u001b[0m             input_type\u001b[38;5;241m=\u001b[39minput_type,\n\u001b[0;32m     74\u001b[0m             truncation\u001b[38;5;241m=\u001b[39mtruncation,\n\u001b[0;32m     75\u001b[0m             \u001b[38;5;241m*\u001b[39m\u001b[38;5;241m*\u001b[39m\u001b[38;5;28mself\u001b[39m\u001b[38;5;241m.\u001b[39m_params,\n\u001b[0;32m     76\u001b[0m         )\n\u001b[0;32m     78\u001b[0m result \u001b[38;5;241m=\u001b[39m EmbeddingsObject(response)\n\u001b[0;32m     79\u001b[0m \u001b[38;5;28;01mreturn\u001b[39;00m result\n",
      "File \u001b[1;32me:\\RAG_APP\\env\\lib\\site-packages\\voyageai\\api_resources\\embedding.py:22\u001b[0m, in \u001b[0;36mEmbedding.create\u001b[1;34m(cls, *args, **kwargs)\u001b[0m\n\u001b[0;32m     19\u001b[0m \u001b[38;5;28;01mif\u001b[39;00m \u001b[38;5;129;01mnot\u001b[39;00m user_provided_encoding_format:\n\u001b[0;32m     20\u001b[0m     kwargs[\u001b[38;5;124m\"\u001b[39m\u001b[38;5;124mencoding_format\u001b[39m\u001b[38;5;124m\"\u001b[39m] \u001b[38;5;241m=\u001b[39m \u001b[38;5;124m\"\u001b[39m\u001b[38;5;124mbase64\u001b[39m\u001b[38;5;124m\"\u001b[39m\n\u001b[1;32m---> 22\u001b[0m response \u001b[38;5;241m=\u001b[39m \u001b[38;5;28msuper\u001b[39m()\u001b[38;5;241m.\u001b[39mcreate(\u001b[38;5;241m*\u001b[39margs, \u001b[38;5;241m*\u001b[39m\u001b[38;5;241m*\u001b[39mkwargs)\n\u001b[0;32m     24\u001b[0m \u001b[38;5;66;03m# If a user specifies base64, we'll just return the encoded string.\u001b[39;00m\n\u001b[0;32m     25\u001b[0m \u001b[38;5;66;03m# This is only for the default case.\u001b[39;00m\n\u001b[0;32m     26\u001b[0m \u001b[38;5;28;01mif\u001b[39;00m \u001b[38;5;129;01mnot\u001b[39;00m user_provided_encoding_format:\n",
      "File \u001b[1;32me:\\RAG_APP\\env\\lib\\site-packages\\voyageai\\api_resources\\api_resource.py:47\u001b[0m, in \u001b[0;36mAPIResource.create\u001b[1;34m(cls, api_key, api_base, request_id, request_timeout, **params)\u001b[0m\n\u001b[0;32m     34\u001b[0m \u001b[38;5;129m@classmethod\u001b[39m\n\u001b[0;32m     35\u001b[0m \u001b[38;5;28;01mdef\u001b[39;00m \u001b[38;5;21mcreate\u001b[39m(\n\u001b[0;32m     36\u001b[0m     \u001b[38;5;28mcls\u001b[39m,\n\u001b[1;32m   (...)\u001b[0m\n\u001b[0;32m     41\u001b[0m     \u001b[38;5;241m*\u001b[39m\u001b[38;5;241m*\u001b[39mparams,\n\u001b[0;32m     42\u001b[0m ):\n\u001b[0;32m     43\u001b[0m     requestor, url, params, headers \u001b[38;5;241m=\u001b[39m \u001b[38;5;28mcls\u001b[39m\u001b[38;5;241m.\u001b[39m__prepare_create_request(\n\u001b[0;32m     44\u001b[0m         api_key, api_base, \u001b[38;5;241m*\u001b[39m\u001b[38;5;241m*\u001b[39mparams\n\u001b[0;32m     45\u001b[0m     )\n\u001b[1;32m---> 47\u001b[0m     response \u001b[38;5;241m=\u001b[39m \u001b[43mrequestor\u001b[49m\u001b[38;5;241;43m.\u001b[39;49m\u001b[43mrequest\u001b[49m\u001b[43m(\u001b[49m\n\u001b[0;32m     48\u001b[0m \u001b[43m        \u001b[49m\u001b[38;5;124;43m\"\u001b[39;49m\u001b[38;5;124;43mpost\u001b[39;49m\u001b[38;5;124;43m\"\u001b[39;49m\u001b[43m,\u001b[49m\n\u001b[0;32m     49\u001b[0m \u001b[43m        \u001b[49m\u001b[43murl\u001b[49m\u001b[43m,\u001b[49m\n\u001b[0;32m     50\u001b[0m \u001b[43m        \u001b[49m\u001b[43mparams\u001b[49m\u001b[38;5;241;43m=\u001b[39;49m\u001b[43mparams\u001b[49m\u001b[43m,\u001b[49m\n\u001b[0;32m     51\u001b[0m \u001b[43m        \u001b[49m\u001b[43mheaders\u001b[49m\u001b[38;5;241;43m=\u001b[39;49m\u001b[43mheaders\u001b[49m\u001b[43m,\u001b[49m\n\u001b[0;32m     52\u001b[0m \u001b[43m        \u001b[49m\u001b[43mrequest_id\u001b[49m\u001b[38;5;241;43m=\u001b[39;49m\u001b[43mrequest_id\u001b[49m\u001b[43m,\u001b[49m\n\u001b[0;32m     53\u001b[0m \u001b[43m        \u001b[49m\u001b[43mrequest_timeout\u001b[49m\u001b[38;5;241;43m=\u001b[39;49m\u001b[43mrequest_timeout\u001b[49m\u001b[43m,\u001b[49m\n\u001b[0;32m     54\u001b[0m \u001b[43m    \u001b[49m\u001b[43m)\u001b[49m\n\u001b[0;32m     56\u001b[0m     obj \u001b[38;5;241m=\u001b[39m convert_to_voyage_response(response)\n\u001b[0;32m     57\u001b[0m     \u001b[38;5;28;01mreturn\u001b[39;00m obj\n",
      "File \u001b[1;32me:\\RAG_APP\\env\\lib\\site-packages\\voyageai\\api_resources\\api_requestor.py:147\u001b[0m, in \u001b[0;36mAPIRequestor.request\u001b[1;34m(self, method, url, params, headers, files, stream, request_id, request_timeout)\u001b[0m\n\u001b[0;32m    126\u001b[0m \u001b[38;5;28;01mdef\u001b[39;00m \u001b[38;5;21mrequest\u001b[39m(\n\u001b[0;32m    127\u001b[0m     \u001b[38;5;28mself\u001b[39m,\n\u001b[0;32m    128\u001b[0m     method,\n\u001b[1;32m   (...)\u001b[0m\n\u001b[0;32m    135\u001b[0m     request_timeout: Optional[Union[\u001b[38;5;28mfloat\u001b[39m, Tuple[\u001b[38;5;28mfloat\u001b[39m, \u001b[38;5;28mfloat\u001b[39m]]] \u001b[38;5;241m=\u001b[39m \u001b[38;5;28;01mNone\u001b[39;00m,\n\u001b[0;32m    136\u001b[0m ) \u001b[38;5;241m-\u001b[39m\u001b[38;5;241m>\u001b[39m VoyageHttpResponse:\n\u001b[0;32m    137\u001b[0m     result \u001b[38;5;241m=\u001b[39m \u001b[38;5;28mself\u001b[39m\u001b[38;5;241m.\u001b[39mrequest_raw(\n\u001b[0;32m    138\u001b[0m         method\u001b[38;5;241m.\u001b[39mlower(),\n\u001b[0;32m    139\u001b[0m         url,\n\u001b[1;32m   (...)\u001b[0m\n\u001b[0;32m    145\u001b[0m         request_timeout\u001b[38;5;241m=\u001b[39mrequest_timeout,\n\u001b[0;32m    146\u001b[0m     )\n\u001b[1;32m--> 147\u001b[0m     resp \u001b[38;5;241m=\u001b[39m \u001b[38;5;28;43mself\u001b[39;49m\u001b[38;5;241;43m.\u001b[39;49m\u001b[43m_interpret_response\u001b[49m\u001b[43m(\u001b[49m\u001b[43mresult\u001b[49m\u001b[43m)\u001b[49m\n\u001b[0;32m    148\u001b[0m     \u001b[38;5;28;01mreturn\u001b[39;00m resp\n",
      "File \u001b[1;32me:\\RAG_APP\\env\\lib\\site-packages\\voyageai\\api_resources\\api_requestor.py:408\u001b[0m, in \u001b[0;36mAPIRequestor._interpret_response\u001b[1;34m(self, result)\u001b[0m\n\u001b[0;32m    405\u001b[0m \u001b[38;5;28;01mdef\u001b[39;00m \u001b[38;5;21m_interpret_response\u001b[39m(\u001b[38;5;28mself\u001b[39m, result: requests\u001b[38;5;241m.\u001b[39mResponse) \u001b[38;5;241m-\u001b[39m\u001b[38;5;241m>\u001b[39m VoyageHttpResponse:\n\u001b[0;32m    406\u001b[0m \u001b[38;5;250m    \u001b[39m\u001b[38;5;124;03m\"\"\"Returns the response(s) and a bool indicating whether it is a stream.\"\"\"\u001b[39;00m\n\u001b[1;32m--> 408\u001b[0m     \u001b[38;5;28;01mreturn\u001b[39;00m \u001b[38;5;28;43mself\u001b[39;49m\u001b[38;5;241;43m.\u001b[39;49m\u001b[43m_interpret_response_line\u001b[49m\u001b[43m(\u001b[49m\n\u001b[0;32m    409\u001b[0m \u001b[43m        \u001b[49m\u001b[43mresult\u001b[49m\u001b[38;5;241;43m.\u001b[39;49m\u001b[43mcontent\u001b[49m\u001b[38;5;241;43m.\u001b[39;49m\u001b[43mdecode\u001b[49m\u001b[43m(\u001b[49m\u001b[38;5;124;43m\"\u001b[39;49m\u001b[38;5;124;43mutf-8\u001b[39;49m\u001b[38;5;124;43m\"\u001b[39;49m\u001b[43m)\u001b[49m\u001b[43m,\u001b[49m\n\u001b[0;32m    410\u001b[0m \u001b[43m        \u001b[49m\u001b[43mresult\u001b[49m\u001b[38;5;241;43m.\u001b[39;49m\u001b[43mstatus_code\u001b[49m\u001b[43m,\u001b[49m\n\u001b[0;32m    411\u001b[0m \u001b[43m        \u001b[49m\u001b[43mresult\u001b[49m\u001b[38;5;241;43m.\u001b[39;49m\u001b[43mheaders\u001b[49m\u001b[43m,\u001b[49m\n\u001b[0;32m    412\u001b[0m \u001b[43m    \u001b[49m\u001b[43m)\u001b[49m\n",
      "File \u001b[1;32me:\\RAG_APP\\env\\lib\\site-packages\\voyageai\\api_resources\\api_requestor.py:463\u001b[0m, in \u001b[0;36mAPIRequestor._interpret_response_line\u001b[1;34m(self, rbody, rcode, rheaders)\u001b[0m\n\u001b[0;32m    461\u001b[0m resp \u001b[38;5;241m=\u001b[39m VoyageHttpResponse(data, rheaders)\n\u001b[0;32m    462\u001b[0m \u001b[38;5;28;01mif\u001b[39;00m \u001b[38;5;241m400\u001b[39m \u001b[38;5;241m<\u001b[39m\u001b[38;5;241m=\u001b[39m rcode \u001b[38;5;241m<\u001b[39m \u001b[38;5;241m500\u001b[39m:\n\u001b[1;32m--> 463\u001b[0m     \u001b[38;5;28;01mraise\u001b[39;00m \u001b[38;5;28mself\u001b[39m\u001b[38;5;241m.\u001b[39mhandle_error_response(rbody, rcode, resp\u001b[38;5;241m.\u001b[39mdata, rheaders)\n\u001b[0;32m    464\u001b[0m \u001b[38;5;28;01mreturn\u001b[39;00m resp\n",
      "\u001b[1;31mRateLimitError\u001b[0m: You have not yet added your payment method in the billing page and will have reduced rate limits of 3 RPM and 10K TPM.  Please add your payment method in the billing page (https://dash.voyageai.com/billing/payment-methods) to unlock our standard rate limits (https://docs.voyageai.com/docs/rate-limits).  Even with payment methods entered, the free tokens (50M tokens per model) will still apply."
     ]
    }
   ],
   "source": [
    "collection_name = vectorise('voyager_rag')"
   ]
  }
 ],
 "metadata": {
  "kernelspec": {
   "display_name": "env",
   "language": "python",
   "name": "python3"
  },
  "language_info": {
   "codemirror_mode": {
    "name": "ipython",
    "version": 3
   },
   "file_extension": ".py",
   "mimetype": "text/x-python",
   "name": "python",
   "nbconvert_exporter": "python",
   "pygments_lexer": "ipython3",
   "version": "3.10.10"
  }
 },
 "nbformat": 4,
 "nbformat_minor": 2
}
